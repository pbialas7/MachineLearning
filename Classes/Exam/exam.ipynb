{
 "cells": [
  {
   "cell_type": "markdown",
   "metadata": {},
   "source": [
    "# Exam"
   ]
  },
  {
   "cell_type": "markdown",
   "metadata": {},
   "source": [
    "A student is taking an exam. He has been given three problems. The grade (G1-G3) he gets on each problem depends on his inteligence (I), effort (E) he put into preparation for  the exam and the difficulty of the problem (D1-D3).  The intelligence and effort are both random variables that can take values 'high'  or 'medium'. The difficulty can be 'high' or 'low' and the difficulties of each problem are independent random variables with identical distributions. The  'a priori' probabilities for those variables are given in the tables below"
   ]
  },
  {
   "cell_type": "markdown",
   "metadata": {},
   "source": [
    "<table>\n",
    "    <tr><th colspan=2>Inteligence</th> <th colspan=2> Effort</th><th colspan=2> Difficulty</th></tr>\n",
    "    <tr><td>high</td> <td>0.4</td> <td> high </td>  <td>0.5</td><td>high</td><td>0.7</td></tr>\n",
    "    <tr><td>medium</td> <td>0.6</td> <td> medium </td> <td>0.5</td><td>low</td><td>0.3</td></tr>\n",
    "</table>    "
   ]
  },
  {
   "cell_type": "markdown",
   "metadata": {},
   "source": [
    "Given the values of those variables the probabilities of each grade are given in the table below"
   ]
  },
  {
   "cell_type": "markdown",
   "metadata": {},
   "source": [
    "<table style=\"text-align: center;\">\n",
    "    <tr><td/><th style=\"border-right: solid thin black\">I</th><th colspan=4>H</th> <th colspan=4>M</th></tr> \n",
    "    <tr><td/><th style=\"border-right: solid thin black\">E</th><th colspan=2>H</th> <th colspan=2>M</th><th colspan=2>H</th> <th colspan=2>M</th></tr> \n",
    "    <tr style=\"border-bottom: thin solid black;\"><td/><th style=\"border-right: solid thin black\">D</th><th>H</th> <th>L</th><th>H</th> <th>L</th><th>H</th> <th>L</th><th>H</th> <th>L</th></tr> \n",
    "    <tr><th rowspan=3>G</th><td style=\"border-right: solid thin black\">0</td><td>0.05</td><td>0.0</td><td>0.15</td><td> 0.1</td><td>0.15</td> <td>0.2</td> <td>0.7</td><td>0.6</td></tr>\n",
    "<tr><td style=\"border-right: solid thin black\">1</td><td>0.15</td><td>0.05</td><td>0.6</td><td> 0.5</td><td>0.6</td> <td>0.55</td> <td>0.25</td><td>0.3</td></tr>      \n",
    "<tr><td style=\"border-right: solid thin black\">2</td><td>0.8</td><td>0.95</td><td>0.25</td><td> 0.4</td><td>0.25</td> <td>0.25</td> <td>0.05</td><td>0.1</td></tr>        \n",
    "</table>    "
   ]
  },
  {
   "cell_type": "markdown",
   "metadata": {},
   "source": [
    "Solving this problem will require installing the [pgmpy](https://pgmpy.org) library (see  [this paper](https://conference.scipy.org/proceedings/scipy2015/pdfs/ankur_ankan.pdf)). Please contact me if you have any problems with this. "
   ]
  },
  {
   "cell_type": "markdown",
   "metadata": {},
   "source": [
    "## Problems"
   ]
  },
  {
   "cell_type": "markdown",
   "metadata": {},
   "source": [
    "__A.1__ Draw a Bayesian network corresponding to this problem. You can draw it by hand and upload the photo/scan. "
   ]
  },
  {
   "cell_type": "markdown",
   "metadata": {},
   "source": [
    "How many parameters does the model have? "
   ]
  },
  {
   "cell_type": "markdown",
   "metadata": {},
   "source": [
    "__A.2__ Construct the model using the `pgmpy` library. Below I have already prepared an array with the parameters of the distribution $P(G|I,E,D)$. You should reuse this  array three times (for three grades). "
   ]
  },
  {
   "cell_type": "code",
   "execution_count": null,
   "metadata": {},
   "outputs": [],
   "source": [
    "import numpy as np\n",
    "from pgmpy.models import BayesianModel\n",
    "from pgmpy.factors.discrete import TabularCPD"
   ]
  },
  {
   "cell_type": "code",
   "execution_count": null,
   "metadata": {},
   "outputs": [],
   "source": [
    "cpd_g_values = np.asarray([\n",
    "    [0.05, 0.0, 0.15, 0.1, 0.15, 0.2, 0.7,0.6],\n",
    "    [0.15, 0.05, 0.6, 0.5, 0.6, 0.55, 0.25, 0.3],\n",
    "    [0.8, 0.95, 0.25, 0.4, 0.25,0.25,0.05,0.1]\n",
    "])"
   ]
  },
  {
   "cell_type": "markdown",
   "metadata": {},
   "source": [
    "__A.3__ What are the 'a posteriori' probabilities for grade G1 ?"
   ]
  },
  {
   "cell_type": "markdown",
   "metadata": {},
   "source": [
    "__A.4__ Given that student got grades  G1=2 and G2=0 what are the probabilities for grade G3 ?"
   ]
  },
  {
   "cell_type": "markdown",
   "metadata": {},
   "source": [
    "__A.5__ Given that student got grades 2,1,1 what can we say about his intelligence?"
   ]
  },
  {
   "cell_type": "markdown",
   "metadata": {},
   "source": [
    "__B.1__ The final grade (F) is the median of all three grades G1-G3. Draw the Bayesian network for the new model. Extend the previous pgmpy model by adding this new variable and suitable CPD. "
   ]
  },
  {
   "cell_type": "markdown",
   "metadata": {},
   "source": [
    "__B.2__ Student got 1 as the   final grade. What can we say about his effort? "
   ]
  },
  {
   "cell_type": "markdown",
   "metadata": {},
   "source": [
    "__B.3__  We know that at least two  problems were difficult. Knowing that student got 1 as final grade how did the posterior probability of his effort change?"
   ]
  },
  {
   "cell_type": "markdown",
   "metadata": {},
   "source": [
    "__B.4__ We know that the student is medium inteligent, what is the probability of his effort now?"
   ]
  },
  {
   "cell_type": "code",
   "execution_count": null,
   "metadata": {},
   "outputs": [],
   "source": []
  }
 ],
 "metadata": {
  "jupytext": {
   "text_representation": {
    "extension": ".Rmd",
    "format_name": "rmarkdown",
    "format_version": "1.2",
    "jupytext_version": "1.4.1"
   }
  },
  "kernelspec": {
   "display_name": "Python 3",
   "language": "python",
   "name": "python3"
  }
 },
 "nbformat": 4,
 "nbformat_minor": 4
}