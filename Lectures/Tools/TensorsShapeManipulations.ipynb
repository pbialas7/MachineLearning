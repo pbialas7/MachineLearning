{
 "cells": [
  {
   "cell_type": "code",
   "execution_count": null,
   "metadata": {},
   "outputs": [],
   "source": [
    "import numpy as np"
   ]
  },
  {
   "cell_type": "code",
   "execution_count": null,
   "metadata": {},
   "outputs": [],
   "source": [
    "from matplotlib.image import imread\n",
    "import matplotlib.pyplot as plt\n",
    "%matplotlib inline\n",
    "plt.rcParams['figure.figsize'] = (10.0, 8.0)"
   ]
  },
  {
   "cell_type": "code",
   "execution_count": null,
   "metadata": {},
   "outputs": [],
   "source": [
    "grumpy =  imread('GrumpyCat.jpg').copy() # we are taking the copy to make our grumpy writable\n",
    "grumpy.shape"
   ]
  },
  {
   "cell_type": "markdown",
   "metadata": {},
   "source": [
    "## Concatenating, stacking and spliting"
   ]
  },
  {
   "cell_type": "markdown",
   "metadata": {},
   "source": [
    "Let's start by combining one or more arrays together. \n",
    "\n",
    "Concatenating two or more arrays does not change they dimensionality, but only increases the size of the concatenated dimension.\n",
    "Below we copy grumpy picture by adding more rows:"
   ]
  },
  {
   "cell_type": "code",
   "execution_count": null,
   "metadata": {},
   "outputs": [],
   "source": [
    "two_grumpies_portrait = np.concatenate((grumpy, grumpy), axis=0)\n",
    "print(two_grumpies_portrait.shape)\n",
    "plt.imshow(two_grumpies_portrait);"
   ]
  },
  {
   "cell_type": "markdown",
   "metadata": {},
   "source": [
    "and here we add columns"
   ]
  },
  {
   "cell_type": "code",
   "execution_count": null,
   "metadata": {},
   "outputs": [],
   "source": [
    "two_grumpies_landscape = np.concatenate((grumpy, grumpy), axis=1)\n",
    "print(two_grumpies_landscape.shape)\n",
    "plt.imshow(two_grumpies_landscape);\n",
    "print(two_grumpies_landscape.base)"
   ]
  },
  {
   "cell_type": "code",
   "execution_count": null,
   "metadata": {},
   "outputs": [],
   "source": [
    "a = np.ones((3,2))\n",
    "np.append(a,[[2,2],[3,3]], axis=0)"
   ]
  },
  {
   "cell_type": "markdown",
   "metadata": {},
   "source": [
    "Stacking in adds one dimension more. Below we reasemble our grumpy from separate color chanels:"
   ]
  },
  {
   "cell_type": "code",
   "execution_count": null,
   "metadata": {},
   "outputs": [],
   "source": [
    "red = grumpy[:,:,0]\n",
    "green = grumpy[:,:,1]\n",
    "blue  = grumpy[:,:,2]"
   ]
  },
  {
   "cell_type": "markdown",
   "metadata": {},
   "source": [
    "All this chanel arrays are two-dimensional:"
   ]
  },
  {
   "cell_type": "code",
   "execution_count": null,
   "metadata": {},
   "outputs": [],
   "source": [
    "blue.shape"
   ]
  },
  {
   "cell_type": "markdown",
   "metadata": {},
   "source": [
    "and we will stack them creating a third dimension, which we chose to be the last:"
   ]
  },
  {
   "cell_type": "code",
   "execution_count": null,
   "metadata": {},
   "outputs": [],
   "source": [
    "stacked_grumpy = np.stack((red, green, blue), axis=2)\n",
    "print(stacked_grumpy.shape)\n",
    "plt.imshow(stacked_grumpy);"
   ]
  },
  {
   "cell_type": "markdown",
   "metadata": {},
   "source": [
    "We could sack along some other axis:"
   ]
  },
  {
   "cell_type": "code",
   "execution_count": null,
   "metadata": {},
   "outputs": [],
   "source": [
    "stacked_grumpy_wrong = np.stack((red, green, blue), axis=0)\n",
    "stacked_grumpy_wrong.shape"
   ]
  },
  {
   "cell_type": "markdown",
   "metadata": {},
   "source": [
    "But now we cannot intepret it as an image. It is a stack of chanels."
   ]
  },
  {
   "cell_type": "code",
   "execution_count": null,
   "metadata": {},
   "outputs": [],
   "source": [
    "plt.imshow(stacked_grumpy_wrong[0], cmap='Reds');"
   ]
  },
  {
   "cell_type": "markdown",
   "metadata": {},
   "source": [
    "The inverse operation to concatenating would be spliting. \n",
    "\n",
    "We can split an array along an axis. Below we split the picture into three color channels.  The rusult is a list of arrays. Please note however that the parts resulting from split are still three dimensional, the last dimension being \"degenerate\" and having size one. I will comment on this more later. We can get rid of those degenerate dimensions by using function `squeeze`."
   ]
  },
  {
   "cell_type": "code",
   "execution_count": null,
   "metadata": {},
   "outputs": [],
   "source": [
    "chanels = np.split(grumpy,3,axis=2)\n",
    "print(chanels[0].base is grumpy)\n",
    "print(type(chanels))\n",
    "print(chanels[0].shape)\n",
    "plt.imshow(np.squeeze(chanels[0]), cmap='gray');"
   ]
  },
  {
   "cell_type": "markdown",
   "metadata": {},
   "source": [
    "Please try to reasamble chanels back into three color picture. Which function will you use?"
   ]
  },
  {
   "cell_type": "markdown",
   "metadata": {},
   "source": [
    "But be afare that split creates the views of the array not the copies! So changing one of the resulting arrays alters the original:"
   ]
  },
  {
   "cell_type": "code",
   "execution_count": null,
   "metadata": {},
   "outputs": [],
   "source": [
    "chanels[0][:]=0\n",
    "plt.imshow(grumpy);"
   ]
  },
  {
   "cell_type": "markdown",
   "metadata": {},
   "source": [
    "## Reshaping"
   ]
  },
  {
   "cell_type": "markdown",
   "metadata": {},
   "source": [
    "Arrays are stored as contiguous pieces of memory. In this sense all arrays are vectors and the dimensions are just artefacts of how we view them. An array of twelve elements"
   ]
  },
  {
   "cell_type": "code",
   "execution_count": null,
   "metadata": {},
   "outputs": [],
   "source": [
    "ar = np.arange(0,12)"
   ]
  },
  {
   "cell_type": "markdown",
   "metadata": {},
   "source": [
    "can be viewed as 3x4 matrix by reashaping it:"
   ]
  },
  {
   "cell_type": "code",
   "execution_count": null,
   "metadata": {},
   "outputs": [],
   "source": [
    "print(ar.shape)\n",
    "ar3x4 = np.reshape(ar,(3,4))\n",
    "print(ar3x4.shape)\n",
    "print(ar3x4)"
   ]
  },
  {
   "cell_type": "markdown",
   "metadata": {},
   "source": [
    "Reashape does not create a new array just another view into array similarly to slice. Assigning to reshaped array we are still assigning to original array:"
   ]
  },
  {
   "cell_type": "code",
   "execution_count": null,
   "metadata": {},
   "outputs": [],
   "source": [
    "ar3x4[0]=0\n",
    "ar3x4[1]=1\n",
    "ar3x4[2]=2\n",
    "ar"
   ]
  },
  {
   "cell_type": "markdown",
   "metadata": {},
   "source": [
    "Similarly we can view it as a 4x3 matrix:"
   ]
  },
  {
   "cell_type": "code",
   "execution_count": null,
   "metadata": {},
   "outputs": [],
   "source": [
    "ar = np.arange(0,12)"
   ]
  },
  {
   "cell_type": "code",
   "execution_count": null,
   "metadata": {},
   "outputs": [],
   "source": [
    "print(ar.shape)\n",
    "ar2=np.reshape(ar,(4,3))\n",
    "print(ar2.shape)\n",
    "print(ar2)"
   ]
  },
  {
   "cell_type": "markdown",
   "metadata": {},
   "source": [
    "a 2x6 matrix:"
   ]
  },
  {
   "cell_type": "code",
   "execution_count": null,
   "metadata": {},
   "outputs": [],
   "source": [
    "print(ar.shape)\n",
    "ar2=np.reshape(ar,(2,6))\n",
    "print(ar2.shape)\n",
    "print(ar2)"
   ]
  },
  {
   "cell_type": "markdown",
   "metadata": {},
   "source": [
    "or higher dimensional tensor:"
   ]
  },
  {
   "cell_type": "code",
   "execution_count": null,
   "metadata": {},
   "outputs": [],
   "source": [
    "print(ar.shape)\n",
    "ar2=np.reshape(ar,(2,3,2))\n",
    "print(ar2.shape)\n",
    "print(ar2)"
   ]
  },
  {
   "cell_type": "markdown",
   "metadata": {},
   "source": [
    "We can let the numpy to deduce the size of one of the dimensions by marking it with -1: "
   ]
  },
  {
   "cell_type": "code",
   "execution_count": null,
   "metadata": {},
   "outputs": [],
   "source": [
    "ar2.reshape(-1)"
   ]
  },
  {
   "cell_type": "code",
   "execution_count": null,
   "metadata": {},
   "outputs": [],
   "source": [
    "ar2.reshape(-1,3)"
   ]
  },
  {
   "cell_type": "code",
   "execution_count": null,
   "metadata": {},
   "outputs": [],
   "source": [
    "ar2.reshape(2,-1,3)"
   ]
  },
  {
   "cell_type": "markdown",
   "metadata": {},
   "source": [
    "## Transpositions"
   ]
  },
  {
   "cell_type": "markdown",
   "metadata": {},
   "source": [
    "Sometimes we need to change the order of dimensions. Let's for example take our `stacked_grumpy_wrong`"
   ]
  },
  {
   "cell_type": "code",
   "execution_count": null,
   "metadata": {},
   "outputs": [],
   "source": [
    "stacked_grumpy_wrong.shape"
   ]
  },
  {
   "cell_type": "markdown",
   "metadata": {},
   "source": [
    "As we have already explained this cannot be interpreted as an image beacuse we expect the chanels to be the last dimension. We can fix this by using `moveaxis`"
   ]
  },
  {
   "cell_type": "code",
   "execution_count": null,
   "metadata": {},
   "outputs": [],
   "source": [
    "stacked_grumpy_right = np.moveaxis(stacked_grumpy_wrong, 0 ,2)"
   ]
  },
  {
   "cell_type": "code",
   "execution_count": null,
   "metadata": {},
   "outputs": [],
   "source": [
    "plt.imshow(stacked_grumpy_right);"
   ]
  },
  {
   "cell_type": "markdown",
   "metadata": {},
   "source": [
    "But again what we obtain is a view not a copy and if we modify the untransposed array"
   ]
  },
  {
   "cell_type": "code",
   "execution_count": null,
   "metadata": {},
   "outputs": [],
   "source": [
    "stacked_grumpy_wrong[0,:]=0"
   ]
  },
  {
   "cell_type": "markdown",
   "metadata": {},
   "source": [
    "we will also modify the transposed one:"
   ]
  },
  {
   "cell_type": "code",
   "execution_count": null,
   "metadata": {},
   "outputs": [],
   "source": [
    "plt.imshow(stacked_grumpy_right);"
   ]
  },
  {
   "cell_type": "code",
   "execution_count": null,
   "metadata": {},
   "outputs": [],
   "source": []
  }
 ],
 "metadata": {
  "jupytext": {
   "text_representation": {
    "extension": ".Rmd",
    "format_name": "rmarkdown",
    "format_version": "1.2",
    "jupytext_version": "1.4.1"
   }
  },
  "kernelspec": {
   "display_name": "Python 3",
   "language": "python",
   "name": "python3"
  }
 },
 "nbformat": 4,
 "nbformat_minor": 4
}