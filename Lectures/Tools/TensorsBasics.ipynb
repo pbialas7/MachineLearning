{
 "cells": [
  {
   "cell_type": "markdown",
   "metadata": {},
   "source": [
    "# Tensors Basics"
   ]
  },
  {
   "cell_type": "markdown",
   "metadata": {},
   "source": [
    "## Why tensors\n",
    "\n",
    "Tensors can be  understood as a multidimensional  extension of more familiar object like  vectors (1D tensors) or matrices (2D tensors). They  provide  basic building blocks for all known  learning, deep or otherwise, frameworks. \n",
    "That is because the data is mostly presented in form of multidimensional tables i.e. tensors.  Also many models have their internal structure expressed in terms of tensors.\n",
    "So whatever you do, you will be using tensors to manipulate your data. \n",
    "\n",
    "Apart for being a very useful mathematical abstraction, the use of tensors is very efficient.  Tensors libraries provide optimized  implementations of tensor operations. This is crucial for interpreted languages like Python. As you will see the difference between \"naive\" python implementation and  tensor operations can be staggering. This is because those operations are written in C/C++ and compiled to native code. Usually their are optimized for given hardware and use multithreading and/or vector instructions. Without using tensor functions  Python would be to slow for any practical purposes of machine learning. \n",
    "\n",
    "That's why being confortable with tensors is absolutelly crucial for any serious machine learning practitioner. We strongly encourage you to experiment with the ideas presented here to be sure that you understand them. \n"
   ]
  },
  {
   "cell_type": "markdown",
   "metadata": {},
   "source": [
    "### numpy\n",
    "\n",
    "The tensor package for python is `numpy`. Most of other libraries build on top of it. However you must be aware that many machine learning frameworks (e.g. PyTorch) define their own tensors. Usually they provide  functions to convert to and from `numpy` tensors. Also they implement a similar set of functions and operators. That's why in this notebook I will make a quick introduction to `numpy` library. All the main concepts introduced here will translate to any tensor library, but the notation may differ. \n",
    "\n",
    "Please note that I will not explain in detail each introduced function or method. You are expected to familiarize yourself with common functions by consulting the documentation. \n"
   ]
  },
  {
   "cell_type": "markdown",
   "metadata": {},
   "source": [
    "Let's start by importing the `numpy` module:"
   ]
  },
  {
   "cell_type": "code",
   "execution_count": null,
   "metadata": {},
   "outputs": [],
   "source": [
    "import numpy as np"
   ]
  },
  {
   "cell_type": "markdown",
   "metadata": {},
   "source": [
    "As already mentioned tensor is a multidimensional table i.e. something that requires several indices to access its elements. If we need $D$ indices we say that the tensor is $D$-dimensional. For example tensor below is 3-dimenional."
   ]
  },
  {
   "cell_type": "markdown",
   "metadata": {},
   "source": [
    "$$x_{ijk}$$"
   ]
  },
  {
   "cell_type": "markdown",
   "metadata": {},
   "source": [
    "Another important feature is dimension size. Each index corresponds to one dimension and the range the index can take is the size of this dimension. In the example below we create a 3-dimensional random tensor, where each tensor element is drawn idependently from gaussian distribution.  The last argument specifies the tensor shape i.e. the number of dimensions and the size of each dimension. Actually the name for tensors in `numpy` is `array` and we will be using this from now on. "
   ]
  },
  {
   "cell_type": "code",
   "execution_count": null,
   "metadata": {},
   "outputs": [],
   "source": [
    "x = np.random.normal(0,1,(3,5,2))\n",
    "print(x)"
   ]
  },
  {
   "cell_type": "markdown",
   "metadata": {},
   "source": [
    "The array `x` has three dimensions with sizes equal to three, five and two. We can verify it by using attribute `shape`:"
   ]
  },
  {
   "cell_type": "code",
   "execution_count": null,
   "metadata": {},
   "outputs": [],
   "source": [
    "x.shape"
   ]
  },
  {
   "cell_type": "markdown",
   "metadata": {},
   "source": [
    "Arrays of 0 to 2 dimensions are also commonly refered by other names:"
   ]
  },
  {
   "cell_type": "markdown",
   "metadata": {},
   "source": [
    "### Scalar\n",
    "\n",
    "Scalar or \"just a number\" can be interpreted as zero-dimensional array that does not require any indices. "
   ]
  },
  {
   "cell_type": "code",
   "execution_count": null,
   "metadata": {},
   "outputs": [],
   "source": [
    "scal = np.pi"
   ]
  },
  {
   "cell_type": "markdown",
   "metadata": {},
   "source": [
    "### Vector\n",
    "\n",
    "Vector is a one-dimenional array:"
   ]
  },
  {
   "cell_type": "code",
   "execution_count": null,
   "metadata": {},
   "outputs": [],
   "source": [
    "vec = np.zeros(7)\n",
    "print(vec)"
   ]
  },
  {
   "cell_type": "markdown",
   "metadata": {},
   "source": [
    "### Matrix\n",
    "\n",
    "Matrix is a two-dimensional array:"
   ]
  },
  {
   "cell_type": "code",
   "execution_count": null,
   "metadata": {},
   "outputs": [],
   "source": [
    "mat = np.ones((3,4))\n",
    "print(mat)"
   ]
  },
  {
   "cell_type": "markdown",
   "metadata": {},
   "source": [
    "### Higher dimensions"
   ]
  },
  {
   "cell_type": "markdown",
   "metadata": {},
   "source": [
    "A RGB image is a three dimensional array of shape (height, width,3). "
   ]
  },
  {
   "cell_type": "code",
   "execution_count": null,
   "metadata": {},
   "outputs": [],
   "source": [
    "from matplotlib.image import imread\n",
    "import matplotlib.pyplot as plt\n",
    "%matplotlib inline\n",
    "plt.rcParams['figure.figsize'] = (10.0, 8.0)"
   ]
  },
  {
   "cell_type": "code",
   "execution_count": null,
   "metadata": {},
   "outputs": [],
   "source": [
    "grumpy =  imread('GrumpyCat.jpg')\n",
    "grumpy.shape"
   ]
  },
  {
   "cell_type": "markdown",
   "metadata": {},
   "source": [
    "Please note that the dimensions are reversed compared to usuall notation 'width x height'.\n",
    "And here is our, unfortunately late,  king of the internet!"
   ]
  },
  {
   "cell_type": "code",
   "execution_count": null,
   "metadata": {},
   "outputs": [],
   "source": [
    "plt.imshow(grumpy);"
   ]
  },
  {
   "cell_type": "markdown",
   "metadata": {},
   "source": [
    "The semicolon at the end of the previous statement prevents the results of the function to be written to output. "
   ]
  },
  {
   "cell_type": "markdown",
   "metadata": {},
   "source": [
    "If we load more then one image then we can store them in four-dimensional array of shape (N_images, height, width,3) \n",
    "\n",
    "And finally  we usually divide the data in batches. That would give us a five-dimensional array (N_batches, N_images_in_batch, height, width, 3). You will encounter more examples as we progress. "
   ]
  },
  {
   "cell_type": "markdown",
   "metadata": {},
   "source": [
    "## Creating tensors"
   ]
  },
  {
   "cell_type": "markdown",
   "metadata": {},
   "source": [
    "Above we have seen many examples of functions creating tensors.  All of them  initialize the elements of the array. Either with random numbers or a constant like zero or one. When we want to imediatelly assign other value to an tensor this is wasteful. For this we have yet another function that creates an empty, that is uninitialized array:"
   ]
  },
  {
   "cell_type": "code",
   "execution_count": null,
   "metadata": {},
   "outputs": [],
   "source": [
    "np.empty((3,4))"
   ]
  },
  {
   "cell_type": "markdown",
   "metadata": {},
   "source": [
    "All of those tensor creation functions also take a shape argument. Some of them have a version which takes another array as an \"blueprint\""
   ]
  },
  {
   "cell_type": "code",
   "execution_count": null,
   "metadata": {},
   "outputs": [],
   "source": [
    "x = np.ones((2,4))\n",
    "y = np.zeros_like(x)\n",
    "y.shape"
   ]
  },
  {
   "cell_type": "markdown",
   "metadata": {},
   "source": [
    "0Yet another option is to create numpy arrays out of Python data structures: list, tuples using `array` or `asarray`."
   ]
  },
  {
   "cell_type": "code",
   "execution_count": null,
   "metadata": {},
   "outputs": [],
   "source": [
    "np.asarray([0,0])"
   ]
  },
  {
   "cell_type": "code",
   "execution_count": null,
   "metadata": {},
   "outputs": [],
   "source": [
    "np.array((0,0))"
   ]
  },
  {
   "cell_type": "code",
   "execution_count": null,
   "metadata": {},
   "outputs": [],
   "source": [
    "np.array([[0,1],[1,0]])"
   ]
  },
  {
   "cell_type": "markdown",
   "metadata": {},
   "source": [
    "For more information see [Array creation](https://docs.scipy.org/doc/numpy/user/basics.creation.html#arrays-creation)."
   ]
  },
  {
   "cell_type": "markdown",
   "metadata": {},
   "source": [
    "## Array data type\n",
    "\n",
    "Arrays do not only have shape but also data type for its elements which can be queried using the attribute `dtype' "
   ]
  },
  {
   "cell_type": "code",
   "execution_count": null,
   "metadata": {},
   "outputs": [],
   "source": [
    "d = np.ones(3)\n",
    "d.dtype"
   ]
  },
  {
   "cell_type": "markdown",
   "metadata": {},
   "source": [
    "As you can see the default type for floating point arrays is double precision (64bit)"
   ]
  },
  {
   "cell_type": "code",
   "execution_count": null,
   "metadata": {},
   "outputs": [],
   "source": [
    "r = np.arange(10)\n",
    "r.dtype"
   ]
  },
  {
   "cell_type": "markdown",
   "metadata": {},
   "source": [
    "and for integer typye it is 64bit int. Some creation function accept the `dtype`   argument:"
   ]
  },
  {
   "cell_type": "code",
   "execution_count": null,
   "metadata": {},
   "outputs": [],
   "source": [
    "f = np.ones(3, dtype='float32')\n",
    "f.dtype"
   ]
  },
  {
   "cell_type": "code",
   "execution_count": null,
   "metadata": {},
   "outputs": [],
   "source": [
    "i = np.ones(3, dtype='int32')\n",
    "i.dtype"
   ]
  },
  {
   "cell_type": "code",
   "execution_count": null,
   "metadata": {},
   "outputs": [],
   "source": [
    "rf = np.arange(10, dtype='float32')\n",
    "rf.dtype"
   ]
  },
  {
   "cell_type": "markdown",
   "metadata": {},
   "source": [
    "For functions that do not provide `dtype` argument we have to use `astype` array method"
   ]
  },
  {
   "cell_type": "code",
   "execution_count": null,
   "metadata": {},
   "outputs": [],
   "source": [
    "rnd_f = np.random.uniform(size=10).astype('float32')\n",
    "rnd_f.dtype"
   ]
  },
  {
   "cell_type": "markdown",
   "metadata": {},
   "source": [
    "`astype` returns a copy of the array with appriopriate data type:"
   ]
  },
  {
   "cell_type": "code",
   "execution_count": null,
   "metadata": {},
   "outputs": [],
   "source": [
    "ri = np.arange(10)\n",
    "rf = ri.astype('float32')"
   ]
  },
  {
   "cell_type": "markdown",
   "metadata": {},
   "source": [
    "`ri` and `rf` are two distinct arrays. "
   ]
  },
  {
   "cell_type": "markdown",
   "metadata": {},
   "source": [
    "The types are important because some functionality  requires a specific data type. For example we can only use integer arrays to index other arrays. \n",
    "\n",
    "More importantly GPU  uses float32 arithmetics and so most of the DeepLearning packages expect float32 dtype. Even if they hadle the conversion themself we waste lot of memory by using the float64.  "
   ]
  },
  {
   "cell_type": "markdown",
   "metadata": {},
   "source": [
    "## Indexing and slicing"
   ]
  },
  {
   "cell_type": "markdown",
   "metadata": {},
   "source": [
    "We index the individual elements of the tensor by providing the values for all of its indices. As in C/C++ the indices start from zero. To access red chanel of the upper left pixel we use"
   ]
  },
  {
   "cell_type": "code",
   "execution_count": null,
   "metadata": {},
   "outputs": [],
   "source": [
    "grumpy[0,0,0]"
   ]
  },
  {
   "cell_type": "markdown",
   "metadata": {},
   "source": [
    "The greatest value an index can have its size of its dimension minus one. The code below access red chanel of the lower right pixel. "
   ]
  },
  {
   "cell_type": "code",
   "execution_count": null,
   "metadata": {},
   "outputs": [],
   "source": [
    "grumpy[599,460,0]"
   ]
  },
  {
   "cell_type": "markdown",
   "metadata": {},
   "source": [
    "This requires us to remember the size of all dimensions. However we can index counting from the back:"
   ]
  },
  {
   "cell_type": "code",
   "execution_count": null,
   "metadata": {},
   "outputs": [],
   "source": [
    "grumpy[-1,-1,0]"
   ]
  },
  {
   "cell_type": "markdown",
   "metadata": {},
   "source": [
    "One can understand this as substracting from the dimension size."
   ]
  },
  {
   "cell_type": "code",
   "execution_count": null,
   "metadata": {},
   "outputs": [],
   "source": [
    "gs= grumpy.shape\n",
    "grumpy[gs[0]-1,gs[1]-1,0]"
   ]
  },
  {
   "cell_type": "markdown",
   "metadata": {},
   "source": [
    "If we do not specify all indices a subtensor is returned. That way we acces a whole pixel:"
   ]
  },
  {
   "cell_type": "code",
   "execution_count": null,
   "metadata": {},
   "outputs": [],
   "source": [
    "pixel = grumpy[0,0]\n",
    "print(pixel.shape)\n",
    "pixel"
   ]
  },
  {
   "cell_type": "markdown",
   "metadata": {},
   "source": [
    "and that way a row:"
   ]
  },
  {
   "cell_type": "code",
   "execution_count": null,
   "metadata": {},
   "outputs": [],
   "source": [
    "row = grumpy[0]\n",
    "print(row.shape)\n",
    "print(row)"
   ]
  },
  {
   "cell_type": "markdown",
   "metadata": {},
   "source": [
    "What if we want to skip indices which are not at the end? For example how we access a single column? This can be achieved using slice notation. We mark the missing index by a colon ':'. Here we access first column:"
   ]
  },
  {
   "cell_type": "code",
   "execution_count": null,
   "metadata": {},
   "outputs": [],
   "source": [
    "column = grumpy[:,0]\n",
    "print(column.shape)\n",
    "column"
   ]
  },
  {
   "cell_type": "markdown",
   "metadata": {},
   "source": [
    "and here the blue chanel:"
   ]
  },
  {
   "cell_type": "code",
   "execution_count": null,
   "metadata": {},
   "outputs": [],
   "source": [
    "chanel = grumpy[:,:,2]\n",
    "print(chanel.shape)\n",
    "plt.imshow(chanel, cmap='gray');"
   ]
  },
  {
   "cell_type": "markdown",
   "metadata": {},
   "source": [
    "The ':' is in fact a special case of the more general notation. The general  slice has the format"
   ]
  },
  {
   "cell_type": "markdown",
   "metadata": {},
   "source": [
    "```\n",
    "start:end:step\n",
    "```\n",
    "\n",
    "which denotes values of the index starting at `start` then increasing by `step` until it is equal or greater then `end`. This means that the `end` is not included in this range. When omited, `start` defaults to zero, `end` to size and `step` to one.\n",
    "Single colon ':' is equivalent to `0:size:1`.   "
   ]
  },
  {
   "cell_type": "markdown",
   "metadata": {},
   "source": [
    "Here we take a portion of the photo:"
   ]
  },
  {
   "cell_type": "code",
   "execution_count": null,
   "metadata": {},
   "outputs": [],
   "source": [
    "sub = grumpy[100:200, 100:200]\n",
    "print(sub.shape)\n",
    "plt.imshow(sub);"
   ]
  },
  {
   "cell_type": "markdown",
   "metadata": {},
   "source": [
    "And here we take every eight pixel:"
   ]
  },
  {
   "cell_type": "code",
   "execution_count": null,
   "metadata": {},
   "outputs": [],
   "source": [
    "small = grumpy[::8, ::8]\n",
    "print(small.shape)\n",
    "plt.imshow(small);"
   ]
  },
  {
   "cell_type": "markdown",
   "metadata": {},
   "source": [
    "A frequent idiom is reversing the array along one dimension by using negative steps:"
   ]
  },
  {
   "cell_type": "code",
   "execution_count": null,
   "metadata": {},
   "outputs": [],
   "source": [
    "plt.imshow(grumpy[::-1])"
   ]
  },
  {
   "cell_type": "code",
   "execution_count": null,
   "metadata": {},
   "outputs": [],
   "source": [
    "plt.imshow(grumpy[:,::-1])"
   ]
  },
  {
   "cell_type": "code",
   "execution_count": null,
   "metadata": {},
   "outputs": [],
   "source": [
    "plt.imshow(grumpy[::-1,::-1])"
   ]
  },
  {
   "cell_type": "markdown",
   "metadata": {},
   "source": [
    "Please play with slicing until you are confident that you have mastered this notation. "
   ]
  },
  {
   "cell_type": "markdown",
   "metadata": {},
   "source": [
    "## Copies, views, references and asignment"
   ]
  },
  {
   "cell_type": "markdown",
   "metadata": {},
   "source": [
    "It's very important to understand when we are dealing with copies of arrays and when with references to them or views."
   ]
  },
  {
   "cell_type": "markdown",
   "metadata": {},
   "source": [
    "### References"
   ]
  },
  {
   "cell_type": "markdown",
   "metadata": {},
   "source": [
    "The line below formaly creates a new ten-element array and stores reference to it in variable x: "
   ]
  },
  {
   "cell_type": "code",
   "execution_count": null,
   "metadata": {},
   "outputs": [],
   "source": [
    "x = np.arange(10)\n",
    "x"
   ]
  },
  {
   "cell_type": "markdown",
   "metadata": {},
   "source": [
    "Assignment in Python, like in Java, only copies the references creating an alias for x,"
   ]
  },
  {
   "cell_type": "code",
   "execution_count": null,
   "metadata": {},
   "outputs": [],
   "source": [
    "y = x"
   ]
  },
  {
   "cell_type": "markdown",
   "metadata": {},
   "source": [
    "After this assignement both variables x and y point to the same object, which we can check by using the operator `is`:"
   ]
  },
  {
   "cell_type": "code",
   "execution_count": null,
   "metadata": {},
   "outputs": [],
   "source": [
    "y is x"
   ]
  },
  {
   "cell_type": "markdown",
   "metadata": {},
   "source": [
    "So changing array trough one reference will change same array as pointed by the other:"
   ]
  },
  {
   "cell_type": "code",
   "execution_count": null,
   "metadata": {},
   "outputs": [],
   "source": [
    "y[0]=10\n",
    "x"
   ]
  },
  {
   "cell_type": "markdown",
   "metadata": {},
   "source": [
    "However assigning a new array to y will replace the reference and the original x array will be unaffected: "
   ]
  },
  {
   "cell_type": "code",
   "execution_count": null,
   "metadata": {},
   "outputs": [],
   "source": [
    "y = np.zeros_like(x)\n",
    "x"
   ]
  },
  {
   "cell_type": "markdown",
   "metadata": {},
   "source": [
    "### Views"
   ]
  },
  {
   "cell_type": "markdown",
   "metadata": {},
   "source": [
    "Assigning references is not the only way we can create an alias. Many, if not most, of the tensor operations creates co called **views** of the array. A view is a array that shares memory with another array. When taking slices of the array we actually creating a view."
   ]
  },
  {
   "cell_type": "code",
   "execution_count": null,
   "metadata": {},
   "outputs": [],
   "source": [
    "x_view = x[:]\n",
    "x_view"
   ]
  },
  {
   "cell_type": "markdown",
   "metadata": {},
   "source": [
    "now the x and x_view point to distinct objects"
   ]
  },
  {
   "cell_type": "code",
   "execution_count": null,
   "metadata": {},
   "outputs": [],
   "source": [
    "x_view is x"
   ]
  },
  {
   "cell_type": "markdown",
   "metadata": {},
   "source": [
    "but share the underlaying arrays. Assigning to `x_view` will change `x`"
   ]
  },
  {
   "cell_type": "code",
   "execution_count": null,
   "metadata": {},
   "outputs": [],
   "source": [
    "x_view[6] = 42\n",
    "x"
   ]
  },
  {
   "cell_type": "markdown",
   "metadata": {},
   "source": [
    "A view holds a reference to original array which we can retrieve using `base` property:"
   ]
  },
  {
   "cell_type": "code",
   "execution_count": null,
   "metadata": {},
   "outputs": [],
   "source": [
    "x_view.base"
   ]
  },
  {
   "cell_type": "markdown",
   "metadata": {},
   "source": [
    "while the original array has base None "
   ]
  },
  {
   "cell_type": "code",
   "execution_count": null,
   "metadata": {},
   "outputs": [],
   "source": [
    "print(x.base)"
   ]
  },
  {
   "cell_type": "markdown",
   "metadata": {},
   "source": [
    "Of course we can use any slice: "
   ]
  },
  {
   "cell_type": "code",
   "execution_count": null,
   "metadata": {},
   "outputs": [],
   "source": [
    "x_half = x[::2]\n",
    "x_half[:] = 7\n",
    "x"
   ]
  },
  {
   "cell_type": "markdown",
   "metadata": {},
   "source": [
    "Please note an technical but important point. Why we could n ot just write `x_half=7` but used `x_half[:]=7` instead? Let's check:"
   ]
  },
  {
   "cell_type": "code",
   "execution_count": null,
   "metadata": {},
   "outputs": [],
   "source": [
    "x_half=8\n",
    "x"
   ]
  },
  {
   "cell_type": "code",
   "execution_count": null,
   "metadata": {},
   "outputs": [],
   "source": [
    "x_half"
   ]
  },
  {
   "cell_type": "markdown",
   "metadata": {},
   "source": [
    "`x_half` is a variable holding reference to a python object which happens to be a view (ndarray). Assignment `x_half=8` just stores number 8 in this variable, replacing the array reference. The slice notation forces the elementwise assignment. "
   ]
  },
  {
   "cell_type": "markdown",
   "metadata": {},
   "source": [
    "Of course we can use slices directly without using the intermediate references:"
   ]
  },
  {
   "cell_type": "code",
   "execution_count": null,
   "metadata": {},
   "outputs": [],
   "source": [
    "x[1::3]=3\n",
    "x"
   ]
  },
  {
   "cell_type": "markdown",
   "metadata": {},
   "source": [
    "### Copy"
   ]
  },
  {
   "cell_type": "markdown",
   "metadata": {},
   "source": [
    "A physical (deep) copy is provided by the copy method of the array:"
   ]
  },
  {
   "cell_type": "code",
   "execution_count": null,
   "metadata": {},
   "outputs": [],
   "source": [
    "grumpy_copy  =  grumpy.copy()"
   ]
  },
  {
   "cell_type": "markdown",
   "metadata": {},
   "source": [
    "Now changing the copy does not change the original:"
   ]
  },
  {
   "cell_type": "code",
   "execution_count": null,
   "metadata": {},
   "outputs": [],
   "source": [
    "fig, ax = plt.subplots(1,3, figsize=(21,7))\n",
    "ax[0].imshow(grumpy_copy);\n",
    "grumpy_copy[:,:,:] = np.ones_like(grumpy_copy)*255\n",
    "ax[1].imshow(grumpy_copy);\n",
    "ax[2].imshow(grumpy);"
   ]
  },
  {
   "cell_type": "markdown",
   "metadata": {},
   "source": [
    "We can use slices to selectively alter a part of the picture:"
   ]
  },
  {
   "cell_type": "code",
   "execution_count": null,
   "metadata": {},
   "outputs": [],
   "source": [
    "grumpy_copy = grumpy.copy()\n",
    "fig, ax = plt.subplots(1,2, figsize=(16,8))\n",
    "ax[0].imshow(grumpy_copy);\n",
    "grumpy_copy[100:200, 100:200]=np.array([255,255,255])\n",
    "ax[1].imshow(grumpy_copy);"
   ]
  },
  {
   "cell_type": "markdown",
   "metadata": {},
   "source": [
    "But again this has changed only the copy:"
   ]
  },
  {
   "cell_type": "code",
   "execution_count": null,
   "metadata": {},
   "outputs": [],
   "source": [
    "plt.imshow(grumpy);"
   ]
  },
  {
   "cell_type": "markdown",
   "metadata": {},
   "source": [
    "## Saving and loading"
   ]
  },
  {
   "cell_type": "markdown",
   "metadata": {},
   "source": [
    " Array can be saved to disk using `save` function"
   ]
  },
  {
   "cell_type": "code",
   "execution_count": null,
   "metadata": {},
   "outputs": [],
   "source": [
    "np.save('grumpy.npy', grumpy)"
   ]
  },
  {
   "cell_type": "markdown",
   "metadata": {},
   "source": [
    "and loaded back"
   ]
  },
  {
   "cell_type": "code",
   "execution_count": null,
   "metadata": {},
   "outputs": [],
   "source": [
    "another_grumpy = np.load('grumpy.npy')\n",
    "plt.imshow(another_grumpy);"
   ]
  },
  {
   "cell_type": "markdown",
   "metadata": {},
   "source": [
    "This concludes a very brief introduction to `numpy` arrays. In the next section we will show how to manipulate  and change the shape of the arrays. "
   ]
  }
 ],
 "metadata": {
  "jupytext": {
   "text_representation": {
    "extension": ".Rmd",
    "format_name": "rmarkdown",
    "format_version": "1.2",
    "jupytext_version": "1.4.1"
   }
  },
  "kernelspec": {
   "display_name": "Python 3",
   "language": "python",
   "name": "python3"
  }
 },
 "nbformat": 4,
 "nbformat_minor": 4
}